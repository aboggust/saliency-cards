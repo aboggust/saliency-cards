{
 "cells": [
  {
   "cell_type": "markdown",
   "metadata": {},
   "source": [
    "# Minimality\n",
    "\n",
    "*Code to create Figure 3g in [Saliency Cards: A Framework to Characterize and Compare\n",
    "Saliency Methods](https://arxiv.org/abs/2206.02958).*\n",
    "\n",
    "Minimality measures how many unnecessary features are given a significant value in the saliency map. Some methods, like [SIS](https://arxiv.org/abs/1810.03805), algorithmically guarantee minimality.\n",
    "\n",
    "To illustrate minimality, we show how while methods that ensure minimality, like [SIS](https://arxiv.org/abs/1810.03805), can produce a more precise set of important features than other methods, like [integrated gradients](https://arxiv.org/abs/1703.01365)."
   ]
  },
  {
   "cell_type": "code",
   "execution_count": 1,
   "metadata": {},
   "outputs": [],
   "source": [
    "import json\n",
    "from IPython.display import display, HTML"
   ]
  },
  {
   "cell_type": "markdown",
   "metadata": {},
   "source": [
    "## Load Beer Review Example\n",
    "In this example, we use textual beer review inputs from BeerAdvocate.  \n",
    "[*What made you do this? Understanding black-box decisions with sufficient input subsets*](https://arxiv.org/abs/1810.03805) trains sentiment classification models on BeerAdvocate and provides examples of [SIS](https://arxiv.org/abs/1810.03805), [integrated gradients](https://arxiv.org/abs/1703.01365), and [LIME](https://arxiv.org/abs/1602.04938) saliency maps. \n",
    "\n",
    "To visualize one example for Figure 3b, we scraped a representative sample of review 956 from [their examples](https://github.com/b-carter/SufficientInputSubsets/blob/master/html_rationales/asp0_multi_sis.html) and stored it as `beeradvocate_review956.json`. For each saliency method, it contains `[word, score]` pairs where each `score` is the HSL lightness values they used to visualize the saliency (i.e., lower is more salient)."
   ]
  },
  {
   "cell_type": "code",
   "execution_count": 2,
   "metadata": {},
   "outputs": [],
   "source": [
    "with open('resources/beeradvocate_review956.json', 'r') as f:\n",
    "    reviews = json.load(f)"
   ]
  },
  {
   "cell_type": "markdown",
   "metadata": {},
   "source": [
    "## Display SIS, Integrated Gradients, and LIME Saliency\n",
    "We visualize the saliency for each method using the saliency score as the HSL lightness value."
   ]
  },
  {
   "cell_type": "code",
   "execution_count": 3,
   "metadata": {},
   "outputs": [],
   "source": [
    "def display_review(review, hue=215):\n",
    "    \"\"\"Visualize the reviews by coloring each word based on its saliency.\"\"\"\n",
    "    review_html = ''\n",
    "    for i, (word, score) in enumerate(review):\n",
    "        if i == 0:\n",
    "            word = word.title()\n",
    "        if i == len(review) - 1:\n",
    "            word += '.'\n",
    "        border = \"border-radius: 3px;\"\n",
    "        padding = \"padding: 2px;\"\n",
    "        margin = \"margin: 0.5px;\"\n",
    "        color = f\"background-color:hsl({hue}, 100%, {score:.0%});\"\n",
    "        review_html += f\"<span style='{border} {padding} {margin} {color}'>{word}</span>\"\n",
    "        if i == 7:\n",
    "            review_html += '<br>'\n",
    "    display(HTML(review_html))"
   ]
  },
  {
   "cell_type": "code",
   "execution_count": 4,
   "metadata": {},
   "outputs": [
    {
     "data": {
      "text/html": [
       "<span style='border-radius: 3px; padding: 2px; margin: 0.5px; background-color:hsl(21, 100%, 100%);'>Poured</span><span style='border-radius: 3px; padding: 2px; margin: 0.5px; background-color:hsl(21, 100%, 100%);'>well</span><span style='border-radius: 3px; padding: 2px; margin: 0.5px; background-color:hsl(21, 100%, 100%);'>into</span><span style='border-radius: 3px; padding: 2px; margin: 0.5px; background-color:hsl(21, 100%, 100%);'>the</span><span style='border-radius: 3px; padding: 2px; margin: 0.5px; background-color:hsl(21, 100%, 100%);'>glass</span><span style='border-radius: 3px; padding: 2px; margin: 0.5px; background-color:hsl(21, 100%, 100%);'>with</span><span style='border-radius: 3px; padding: 2px; margin: 0.5px; background-color:hsl(21, 100%, 100%);'>a</span><span style='border-radius: 3px; padding: 2px; margin: 0.5px; background-color:hsl(21, 100%, 100%);'>rich</span><br><span style='border-radius: 3px; padding: 2px; margin: 0.5px; background-color:hsl(21, 100%, 100%);'>brown</span><span style='border-radius: 3px; padding: 2px; margin: 0.5px; background-color:hsl(21, 100%, 100%);'>color</span><span style='border-radius: 3px; padding: 2px; margin: 0.5px; background-color:hsl(21, 100%, 100%);'>and</span><span style='border-radius: 3px; padding: 2px; margin: 0.5px; background-color:hsl(21, 100%, 60%);'>nice</span><span style='border-radius: 3px; padding: 2px; margin: 0.5px; background-color:hsl(21, 100%, 72%);'>thick</span><span style='border-radius: 3px; padding: 2px; margin: 0.5px; background-color:hsl(21, 100%, 100%);'>head.</span>"
      ],
      "text/plain": [
       "<IPython.core.display.HTML object>"
      ]
     },
     "metadata": {},
     "output_type": "display_data"
    }
   ],
   "source": [
    "display_review(reviews['sis'], 21)"
   ]
  },
  {
   "cell_type": "code",
   "execution_count": 5,
   "metadata": {},
   "outputs": [
    {
     "data": {
      "text/html": [
       "<span style='border-radius: 3px; padding: 2px; margin: 0.5px; background-color:hsl(215, 100%, 82%);'>Poured</span><span style='border-radius: 3px; padding: 2px; margin: 0.5px; background-color:hsl(215, 100%, 81%);'>well</span><span style='border-radius: 3px; padding: 2px; margin: 0.5px; background-color:hsl(215, 100%, 84%);'>into</span><span style='border-radius: 3px; padding: 2px; margin: 0.5px; background-color:hsl(215, 100%, 85%);'>the</span><span style='border-radius: 3px; padding: 2px; margin: 0.5px; background-color:hsl(215, 100%, 77%);'>glass</span><span style='border-radius: 3px; padding: 2px; margin: 0.5px; background-color:hsl(215, 100%, 79%);'>with</span><span style='border-radius: 3px; padding: 2px; margin: 0.5px; background-color:hsl(215, 100%, 76%);'>a</span><span style='border-radius: 3px; padding: 2px; margin: 0.5px; background-color:hsl(215, 100%, 66%);'>rich</span><br><span style='border-radius: 3px; padding: 2px; margin: 0.5px; background-color:hsl(215, 100%, 74%);'>brown</span><span style='border-radius: 3px; padding: 2px; margin: 0.5px; background-color:hsl(215, 100%, 72%);'>color</span><span style='border-radius: 3px; padding: 2px; margin: 0.5px; background-color:hsl(215, 100%, 73%);'>and</span><span style='border-radius: 3px; padding: 2px; margin: 0.5px; background-color:hsl(215, 100%, 62%);'>nice</span><span style='border-radius: 3px; padding: 2px; margin: 0.5px; background-color:hsl(215, 100%, 63%);'>thick</span><span style='border-radius: 3px; padding: 2px; margin: 0.5px; background-color:hsl(215, 100%, 66%);'>head.</span>"
      ],
      "text/plain": [
       "<IPython.core.display.HTML object>"
      ]
     },
     "metadata": {},
     "output_type": "display_data"
    }
   ],
   "source": [
    "display_review(reviews['integrated_gradients'], 215)"
   ]
  },
  {
   "cell_type": "code",
   "execution_count": 6,
   "metadata": {},
   "outputs": [
    {
     "data": {
      "text/html": [
       "<span style='border-radius: 3px; padding: 2px; margin: 0.5px; background-color:hsl(280, 100%, 74%);'>Poured</span><span style='border-radius: 3px; padding: 2px; margin: 0.5px; background-color:hsl(280, 100%, 84%);'>well</span><span style='border-radius: 3px; padding: 2px; margin: 0.5px; background-color:hsl(280, 100%, 70%);'>into</span><span style='border-radius: 3px; padding: 2px; margin: 0.5px; background-color:hsl(280, 100%, 95%);'>the</span><span style='border-radius: 3px; padding: 2px; margin: 0.5px; background-color:hsl(280, 100%, 73%);'>glass</span><span style='border-radius: 3px; padding: 2px; margin: 0.5px; background-color:hsl(280, 100%, 85%);'>with</span><span style='border-radius: 3px; padding: 2px; margin: 0.5px; background-color:hsl(280, 100%, 85%);'>a</span><span style='border-radius: 3px; padding: 2px; margin: 0.5px; background-color:hsl(280, 100%, 65%);'>rich</span><br><span style='border-radius: 3px; padding: 2px; margin: 0.5px; background-color:hsl(280, 100%, 76%);'>brown</span><span style='border-radius: 3px; padding: 2px; margin: 0.5px; background-color:hsl(280, 100%, 71%);'>color</span><span style='border-radius: 3px; padding: 2px; margin: 0.5px; background-color:hsl(280, 100%, 93%);'>and</span><span style='border-radius: 3px; padding: 2px; margin: 0.5px; background-color:hsl(280, 100%, 63%);'>nice</span><span style='border-radius: 3px; padding: 2px; margin: 0.5px; background-color:hsl(280, 100%, 63%);'>thick</span><span style='border-radius: 3px; padding: 2px; margin: 0.5px; background-color:hsl(280, 100%, 64%);'>head.</span>"
      ],
      "text/plain": [
       "<IPython.core.display.HTML object>"
      ]
     },
     "metadata": {},
     "output_type": "display_data"
    }
   ],
   "source": [
    "display_review(reviews['lime'], 280)"
   ]
  },
  {
   "cell_type": "code",
   "execution_count": null,
   "metadata": {},
   "outputs": [],
   "source": []
  }
 ],
 "metadata": {
  "kernelspec": {
   "display_name": "Python 3",
   "language": "python",
   "name": "python3"
  },
  "language_info": {
   "codemirror_mode": {
    "name": "ipython",
    "version": 3
   },
   "file_extension": ".py",
   "mimetype": "text/x-python",
   "name": "python",
   "nbconvert_exporter": "python",
   "pygments_lexer": "ipython3",
   "version": "3.6.12"
  }
 },
 "nbformat": 4,
 "nbformat_minor": 4
}
