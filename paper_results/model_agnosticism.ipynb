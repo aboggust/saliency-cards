{
 "cells": [
  {
   "cell_type": "markdown",
   "metadata": {},
   "source": [
    "# Model Agnosticism \n",
    "\n",
    "*Code to create Figure 3c in [Saliency Cards: A Framework to Characterize and Compare\n",
    "Saliency Methods](https://arxiv.org/abs/2206.02958).*\n",
    "\n",
    "Model agnosticism measures how much access to the model a saliency method requires. Model agnostic methods treat the underlying model as a black box, relying only on its input and output. On the other hand, model-dependent methods require access to model internals.\n",
    "\n",
    "To illustrate model agnosticism, we show how [RISE](https://arxiv.org/pdf/1806.07421.pdf), a model agnostic method can be used to interpret two completely different model architectues: a CNN and a Random Forest."
   ]
  },
  {
   "cell_type": "code",
   "execution_count": 1,
   "metadata": {},
   "outputs": [],
   "source": [
    "%load_ext autoreload\n",
    "%autoreload 2"
   ]
  },
  {
   "cell_type": "code",
   "execution_count": 2,
   "metadata": {},
   "outputs": [],
   "source": [
    "import matplotlib.pyplot as plt\n",
    "import numpy as np\n",
    "import torch\n",
    "import torch.nn as nn\n",
    "import torch.nn.functional as F\n",
    "import torch.optim as optim\n",
    "\n",
    "from sklearn.datasets import fetch_openml\n",
    "from sklearn.ensemble import RandomForestClassifier\n",
    "from sklearn.model_selection import train_test_split\n",
    "from torchvision import datasets, transforms\n",
    "\n",
    "from interpretability_methods.rise import RISE\n",
    "from interpretability_methods.util import visualize_saliency"
   ]
  },
  {
   "cell_type": "markdown",
   "metadata": {},
   "source": [
    "Define some user-specific paramters that will be used throughout the notebook."
   ]
  },
  {
   "cell_type": "code",
   "execution_count": 3,
   "metadata": {},
   "outputs": [],
   "source": [
    "DATA_DIR = '~/data/'"
   ]
  },
  {
   "cell_type": "markdown",
   "metadata": {},
   "source": [
    "## RISE for an MNIST CNN\n",
    "\n",
    "Using Pytorch we train a simple Convolutional Neural Network to classify MNIST images and apply the saliency method [RISE](https://arxiv.org/pdf/1806.07421.pdf) to interpret the results."
   ]
  },
  {
   "cell_type": "markdown",
   "metadata": {},
   "source": [
    "First, we load the [MNIST dataset in PyTorch](https://pytorch.org/vision/main/generated/torchvision.datasets.MNIST.html)."
   ]
  },
  {
   "cell_type": "code",
   "execution_count": 4,
   "metadata": {},
   "outputs": [],
   "source": [
    "transform=transforms.Compose([\n",
    "    transforms.ToTensor(),\n",
    "    transforms.Normalize((0.1307,), (0.3081,))\n",
    "])\n",
    "\n",
    "train_dataset = datasets.MNIST(DATA_DIR, train=True, download=True, \n",
    "                               transform=transform)\n",
    "test_dataset = datasets.MNIST(DATA_DIR, train=False, download=True, \n",
    "                              transform=transform)"
   ]
  },
  {
   "cell_type": "code",
   "execution_count": 5,
   "metadata": {},
   "outputs": [],
   "source": [
    "train_loader = torch.utils.data.DataLoader(train_dataset, batch_size=64, \n",
    "                                           num_workers=1, pin_memory=True, \n",
    "                                           shuffle=True)\n",
    "test_loader = torch.utils.data.DataLoader(test_dataset, batch_size=1000, \n",
    "                                          num_workers=1, pin_memory=True, \n",
    "                                          shuffle=False)"
   ]
  },
  {
   "cell_type": "markdown",
   "metadata": {},
   "source": [
    "Next, we create a CNN model, following the PyTorch basic [MNIST CNN example](https://github.com/pytorch/examples/tree/main/mnist)."
   ]
  },
  {
   "cell_type": "code",
   "execution_count": 6,
   "metadata": {},
   "outputs": [],
   "source": [
    "class Net(nn.Module):\n",
    "    \"\"\"Simple CNN model.\"\"\"\n",
    "    def __init__(self):\n",
    "        super(Net, self).__init__()\n",
    "        self.conv1 = nn.Conv2d(1, 32, 3, 1)\n",
    "        self.conv2 = nn.Conv2d(32, 64, 3, 1)\n",
    "        self.dropout1 = nn.Dropout(0.25)\n",
    "        self.dropout2 = nn.Dropout(0.5)\n",
    "        self.fc1 = nn.Linear(9216, 128)\n",
    "        self.fc2 = nn.Linear(128, 10)\n",
    "\n",
    "    def forward(self, x):\n",
    "        x = self.conv1(x)\n",
    "        x = F.relu(x)\n",
    "        x = self.conv2(x)\n",
    "        x = F.relu(x)\n",
    "        x = F.max_pool2d(x, 2)\n",
    "        x = self.dropout1(x)\n",
    "        x = torch.flatten(x, 1)\n",
    "        x = self.fc1(x)\n",
    "        x = F.relu(x)\n",
    "        x = self.dropout2(x)\n",
    "        x = self.fc2(x)\n",
    "        output = F.log_softmax(x, dim=1)\n",
    "        return output"
   ]
  },
  {
   "cell_type": "code",
   "execution_count": 7,
   "metadata": {},
   "outputs": [],
   "source": [
    "device = torch.device(\"cuda\" if torch.cuda.is_available() else \"cpu\")\n",
    "cnn_model = Net().to(device)"
   ]
  },
  {
   "cell_type": "markdown",
   "metadata": {},
   "source": [
    "We define the training and testing procedures and train the model."
   ]
  },
  {
   "cell_type": "code",
   "execution_count": 8,
   "metadata": {},
   "outputs": [],
   "source": [
    "def train(model, device, train_loader, optimizer, epoch):\n",
    "    \"\"\"Performs one training epoch.\"\"\"\n",
    "    model.train()\n",
    "    for batch_idx, (data, target) in enumerate(train_loader):\n",
    "        data, target = data.to(device), target.to(device)\n",
    "        optimizer.zero_grad()\n",
    "        output = model(data)\n",
    "        loss = F.nll_loss(output, target)\n",
    "        loss.backward()\n",
    "        optimizer.step()\n",
    "        if batch_idx % 500 == 0:\n",
    "            print('Train Epoch: {} [{}/{} ({:.0f}%)]\\tLoss: {:.6f}'.format(\n",
    "                epoch, batch_idx * len(data), len(train_loader.dataset),\n",
    "                100. * batch_idx / len(train_loader), loss.item()))\n",
    "\n",
    "\n",
    "def test(model, device, test_loader):\n",
    "    \"\"\"Tests the model and prints the loss and accuracy.\"\"\"\n",
    "    model.eval()\n",
    "    test_loss = 0\n",
    "    correct = 0\n",
    "    with torch.no_grad():\n",
    "        for data, target in test_loader:\n",
    "            data, target = data.to(device), target.to(device)\n",
    "            output = model(data)\n",
    "            test_loss += F.nll_loss(output, target, reduction='sum').item()  # sum up batch loss\n",
    "            pred = output.argmax(dim=1, keepdim=True)  # get the index of the max log-probability\n",
    "            correct += pred.eq(target.view_as(pred)).sum().item()\n",
    "\n",
    "    test_loss /= len(test_loader.dataset)\n",
    "\n",
    "    print('\\nTest set: Average loss: {:.4f}, Accuracy: {}/{} ({:.0f}%)\\n'.format(\n",
    "        test_loss, correct, len(test_loader.dataset),\n",
    "        100. * correct / len(test_loader.dataset)))"
   ]
  },
  {
   "cell_type": "code",
   "execution_count": 9,
   "metadata": {},
   "outputs": [],
   "source": [
    "optimizer = optim.Adadelta(cnn_model.parameters(), lr=1.0)\n",
    "scheduler = optim.lr_scheduler.StepLR(optimizer, step_size=1, gamma=0.7)"
   ]
  },
  {
   "cell_type": "code",
   "execution_count": 10,
   "metadata": {
    "scrolled": true
   },
   "outputs": [
    {
     "name": "stdout",
     "output_type": "stream",
     "text": [
      "Train Epoch: 1 [0/60000 (0%)]\tLoss: 2.292426\n",
      "Train Epoch: 1 [32000/60000 (53%)]\tLoss: 0.134626\n",
      "\n",
      "Test set: Average loss: 0.0523, Accuracy: 9833/10000 (98%)\n",
      "\n",
      "Train Epoch: 2 [0/60000 (0%)]\tLoss: 0.089992\n",
      "Train Epoch: 2 [32000/60000 (53%)]\tLoss: 0.063703\n",
      "\n",
      "Test set: Average loss: 0.0387, Accuracy: 9871/10000 (99%)\n",
      "\n",
      "Train Epoch: 3 [0/60000 (0%)]\tLoss: 0.107298\n",
      "Train Epoch: 3 [32000/60000 (53%)]\tLoss: 0.053840\n",
      "\n",
      "Test set: Average loss: 0.0324, Accuracy: 9901/10000 (99%)\n",
      "\n",
      "Train Epoch: 4 [0/60000 (0%)]\tLoss: 0.036134\n",
      "Train Epoch: 4 [32000/60000 (53%)]\tLoss: 0.047756\n",
      "\n",
      "Test set: Average loss: 0.0308, Accuracy: 9904/10000 (99%)\n",
      "\n",
      "Train Epoch: 5 [0/60000 (0%)]\tLoss: 0.014154\n",
      "Train Epoch: 5 [32000/60000 (53%)]\tLoss: 0.074495\n",
      "\n",
      "Test set: Average loss: 0.0266, Accuracy: 9914/10000 (99%)\n",
      "\n",
      "Train Epoch: 6 [0/60000 (0%)]\tLoss: 0.074979\n",
      "Train Epoch: 6 [32000/60000 (53%)]\tLoss: 0.008613\n",
      "\n",
      "Test set: Average loss: 0.0265, Accuracy: 9925/10000 (99%)\n",
      "\n",
      "Train Epoch: 7 [0/60000 (0%)]\tLoss: 0.016624\n",
      "Train Epoch: 7 [32000/60000 (53%)]\tLoss: 0.012476\n",
      "\n",
      "Test set: Average loss: 0.0262, Accuracy: 9919/10000 (99%)\n",
      "\n",
      "Train Epoch: 8 [0/60000 (0%)]\tLoss: 0.062606\n",
      "Train Epoch: 8 [32000/60000 (53%)]\tLoss: 0.015080\n",
      "\n",
      "Test set: Average loss: 0.0266, Accuracy: 9915/10000 (99%)\n",
      "\n",
      "Train Epoch: 9 [0/60000 (0%)]\tLoss: 0.015776\n",
      "Train Epoch: 9 [32000/60000 (53%)]\tLoss: 0.003603\n",
      "\n",
      "Test set: Average loss: 0.0259, Accuracy: 9925/10000 (99%)\n",
      "\n",
      "Train Epoch: 10 [0/60000 (0%)]\tLoss: 0.017419\n",
      "Train Epoch: 10 [32000/60000 (53%)]\tLoss: 0.006452\n",
      "\n",
      "Test set: Average loss: 0.0260, Accuracy: 9924/10000 (99%)\n",
      "\n",
      "Train Epoch: 11 [0/60000 (0%)]\tLoss: 0.023314\n",
      "Train Epoch: 11 [32000/60000 (53%)]\tLoss: 0.002391\n",
      "\n",
      "Test set: Average loss: 0.0255, Accuracy: 9926/10000 (99%)\n",
      "\n",
      "Train Epoch: 12 [0/60000 (0%)]\tLoss: 0.039718\n",
      "Train Epoch: 12 [32000/60000 (53%)]\tLoss: 0.083989\n",
      "\n",
      "Test set: Average loss: 0.0254, Accuracy: 9927/10000 (99%)\n",
      "\n",
      "Train Epoch: 13 [0/60000 (0%)]\tLoss: 0.002157\n",
      "Train Epoch: 13 [32000/60000 (53%)]\tLoss: 0.005762\n",
      "\n",
      "Test set: Average loss: 0.0253, Accuracy: 9922/10000 (99%)\n",
      "\n",
      "Train Epoch: 14 [0/60000 (0%)]\tLoss: 0.008362\n",
      "Train Epoch: 14 [32000/60000 (53%)]\tLoss: 0.022283\n",
      "\n",
      "Test set: Average loss: 0.0254, Accuracy: 9927/10000 (99%)\n",
      "\n"
     ]
    }
   ],
   "source": [
    "for epoch in range(1, 15):\n",
    "    train(cnn_model, device, train_loader, optimizer, epoch)\n",
    "    test(cnn_model, device, test_loader)\n",
    "    scheduler.step()"
   ]
  },
  {
   "cell_type": "markdown",
   "metadata": {},
   "source": [
    "Apply RISE to MNIST examples and the trained model."
   ]
  },
  {
   "cell_type": "code",
   "execution_count": 11,
   "metadata": {},
   "outputs": [
    {
     "data": {
      "image/png": "[encoded data removed]",
      "text/plain": [
       "<Figure size 432x288 with 1 Axes>"
      ]
     },
     "metadata": {
      "needs_background": "light"
     },
     "output_type": "display_data"
    }
   ],
   "source": [
    "image, _ = test_dataset[0]\n",
    "image_size = image.shape[1:]\n",
    "image_batch = image.unsqueeze(0).to(device)\n",
    "plt.imshow(image.squeeze(0), cmap='gray')\n",
    "plt.axis('off');"
   ]
  },
  {
   "cell_type": "code",
   "execution_count": 12,
   "metadata": {},
   "outputs": [
    {
     "data": {
      "image/png": "[encoded data removed]",
      "text/plain": [
       "<Figure size 432x288 with 1 Axes>"
      ]
     },
     "metadata": {
      "needs_background": "light"
     },
     "output_type": "display_data"
    }
   ],
   "source": [
    "rise_cnn = RISE(cnn_model, image_size, 1000)\n",
    "rise_cnn_saliency = rise_cnn.get_saliency(image_batch).squeeze(0)\n",
    "visualize_saliency(rise_cnn_saliency, images=image, scheme='heatmap', absolute_values=False, image_cmap='gray');"
   ]
  },
  {
   "cell_type": "markdown",
   "metadata": {},
   "source": [
    "## RISE for an MNIST Random Forest Classifier\n",
    "\n",
    "Now we do the same proceudre, but this time use SciKit Learn we train a Random Forest classifier on MNIST images and apply the saliency method [RISE](https://arxiv.org/pdf/1806.07421.pdf) to interpret the results."
   ]
  },
  {
   "cell_type": "markdown",
   "metadata": {},
   "source": [
    "First, we convert the MNIST data to SciKit Learn format."
   ]
  },
  {
   "cell_type": "code",
   "execution_count": 13,
   "metadata": {},
   "outputs": [],
   "source": [
    "def convert_pytorch_dataset(dataset):\n",
    "    \"\"\"Converts PyTorch Dataset object to SciKit Learn dataset format.\n",
    "    \n",
    "    Returns data, a 2D numpy array of the flattened dataset images, and targets,\n",
    "    a 1D numpy array of the dataset labels.\n",
    "    \"\"\"\n",
    "    data = []\n",
    "    targets = []\n",
    "    for image, label in dataset:\n",
    "        flattened_image = image.detach().cpu().numpy().reshape(-1)\n",
    "        data.append(flattened_image)\n",
    "        targets.append(label)\n",
    "    return np.array(data), np.array(targets)\n",
    "\n",
    "train_data, train_targets = convert_pytorch_dataset(train_dataset)\n",
    "test_data, test_targets = convert_pytorch_dataset(test_dataset)"
   ]
  },
  {
   "cell_type": "markdown",
   "metadata": {},
   "source": [
    "Next, we train a [random forest classifier](https://scikit-learn.org/stable/modules/generated/sklearn.ensemble.RandomForestClassifier.html) on the data."
   ]
  },
  {
   "cell_type": "code",
   "execution_count": 14,
   "metadata": {},
   "outputs": [],
   "source": [
    "rf_model = RandomForestClassifier()\n",
    "rf_model.fit(train_data, train_targets);"
   ]
  },
  {
   "cell_type": "code",
   "execution_count": 34,
   "metadata": {},
   "outputs": [
    {
     "name": "stdout",
     "output_type": "stream",
     "text": [
      "Random forest classifier acheives 96.95% accuracy on MNIST.\n"
     ]
    }
   ],
   "source": [
    "test_accuracy = rf_model.score(test_data, test_targets)\n",
    "print(f'Random forest classifier acheives {test_accuracy:.2%} accuracy on MNIST.')"
   ]
  },
  {
   "cell_type": "markdown",
   "metadata": {},
   "source": [
    "Finally, we run [RISE](https://arxiv.org/pdf/1806.07421.pdf) on the random forest classifier (a very different architecture than our prvious CNN model). This is only possible because RISE is model agnostic!"
   ]
  },
  {
   "cell_type": "code",
   "execution_count": 35,
   "metadata": {},
   "outputs": [],
   "source": [
    "def rf_model_wrapper(image_batch):\n",
    "    \"\"\"Wraps the SciKit random forest model to work like a PyTorch model for \n",
    "    integration with the interpretability methods package.\"\"\"\n",
    "    rf_image_batch = image_batch.flatten(start_dim=1).detach().cpu().numpy()\n",
    "    output = rf_model.predict_proba(rf_image_batch)\n",
    "    tensor_output = torch.from_numpy(output.astype(np.float32)).to(device)\n",
    "    return tensor_output"
   ]
  },
  {
   "cell_type": "code",
   "execution_count": 49,
   "metadata": {},
   "outputs": [
    {
     "data": {
      "image/png": "[encoded data removed]",
      "text/plain": [
       "<Figure size 432x288 with 1 Axes>"
      ]
     },
     "metadata": {
      "needs_background": "light"
     },
     "output_type": "display_data"
    }
   ],
   "source": [
    "rise_rf = RISE(rf_model_wrapper, image_size, 1000)\n",
    "rise_rf_saliency = rise_rf.get_saliency(image_batch).squeeze(0)\n",
    "visualize_saliency(rise_rf_saliency, images=image, scheme='heatmap', absolute_values=False, image_cmap='gray');"
   ]
  },
  {
   "cell_type": "code",
   "execution_count": null,
   "metadata": {},
   "outputs": [],
   "source": []
  }
 ],
 "metadata": {
  "kernelspec": {
   "display_name": "Python 3",
   "language": "python",
   "name": "python3"
  },
  "language_info": {
   "codemirror_mode": {
    "name": "ipython",
    "version": 3
   },
   "file_extension": ".py",
   "mimetype": "text/x-python",
   "name": "python",
   "nbconvert_exporter": "python",
   "pygments_lexer": "ipython3",
   "version": "3.6.12"
  }
 },
 "nbformat": 4,
 "nbformat_minor": 4
}
